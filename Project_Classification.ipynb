{
 "cells": [
  {
   "cell_type": "markdown",
   "id": "40842a33",
   "metadata": {},
   "source": [
    "## Classification_algorithms_for_customer_churn"
   ]
  },
  {
   "cell_type": "code",
   "execution_count": 1,
   "id": "d73f52ab",
   "metadata": {},
   "outputs": [],
   "source": [
    "#import requeired libraries\n",
    "import pandas as pd\n",
    "import numpy as np\n",
    "import seaborn as sns \n",
    "\n",
    "from sklearn.model_selection import train_test_split\n",
    "\n",
    "#import models\n",
    "from sklearn.neighbors import KNeighborsClassifier\n",
    "from sklearn.svm import SVC\n",
    "from sklearn.ensemble import RandomForestClassifier\n",
    "from sklearn.linear_model import LogisticRegression\n",
    "from sklearn.svm import SVC\n",
    "\n",
    "from sklearn.model_selection import GridSearchCV\n",
    "from sklearn.preprocessing import MinMaxScaler\n",
    "\n",
    "# Evaluation metrics related methods\n",
    "from sklearn.metrics import classification_report, f1_score, accuracy_score, precision_recall_fscore_support, confusion_matrix, precision_score, recall_score, roc_auc_score\n",
    "from sklearn.ensemble import RandomForestClassifier, GradientBoostingClassifier\n",
    "\n",
    "from matplotlib.pyplot import figure\n",
    "import matplotlib.pylab as plt\n",
    "%matplotlib inline"
   ]
  },
  {
   "cell_type": "markdown",
   "id": "3f4fd4dc",
   "metadata": {},
   "source": [
    " *** Data description ***\n",
    "\n",
    "This dataset belongs to an e-Commerce company. Which wants to know the clients that are going to churn. The dataset includes\n",
    "customer that churn; customer account information – how long they’ve been a customer, payment method; demographic info about \n",
    "customers. "
   ]
  },
  {
   "cell_type": "markdown",
   "id": "4f59e92d",
   "metadata": {},
   "source": [
    "# Objectives "
   ]
  },
  {
   "cell_type": "markdown",
   "id": "aca54e27",
   "metadata": {},
   "source": [
    "The main onjective for this project is to developed some classifiers models to predict customer churn for a e-commerce company and propose one to employ as a predicitive tool for future analysis, for this we propose the following specific objectives:\n",
    "    Explore the data and prepare for analysys\n",
    "    Analyse the distribution of the classes and propose solutions to overcome the imbalanced problem\n",
    "    Develop machine learning models to predict if a custumer will churn or will not churn\n",
    "    Evaluate the performance of the developed models\n",
    "    Recommend a model to predict if custumer will churn or will not"
   ]
  },
  {
   "cell_type": "code",
   "execution_count": 2,
   "id": "28656acc",
   "metadata": {
    "scrolled": false
   },
   "outputs": [
    {
     "data": {
      "text/html": [
       "<div>\n",
       "<style scoped>\n",
       "    .dataframe tbody tr th:only-of-type {\n",
       "        vertical-align: middle;\n",
       "    }\n",
       "\n",
       "    .dataframe tbody tr th {\n",
       "        vertical-align: top;\n",
       "    }\n",
       "\n",
       "    .dataframe thead th {\n",
       "        text-align: right;\n",
       "    }\n",
       "</style>\n",
       "<table border=\"1\" class=\"dataframe\">\n",
       "  <thead>\n",
       "    <tr style=\"text-align: right;\">\n",
       "      <th></th>\n",
       "      <th>CustomerID</th>\n",
       "      <th>Churn</th>\n",
       "      <th>Tenure</th>\n",
       "      <th>PreferredLoginDevice</th>\n",
       "      <th>CityTier</th>\n",
       "      <th>WarehouseToHome</th>\n",
       "      <th>PreferredPaymentMode</th>\n",
       "      <th>Gender</th>\n",
       "      <th>HourSpendOnApp</th>\n",
       "      <th>NumberOfDeviceRegistered</th>\n",
       "      <th>PreferedOrderCat</th>\n",
       "      <th>SatisfactionScore</th>\n",
       "      <th>MaritalStatus</th>\n",
       "      <th>NumberOfAddress</th>\n",
       "      <th>Complain</th>\n",
       "      <th>OrderAmountHikeFromlastYear</th>\n",
       "      <th>CouponUsed</th>\n",
       "      <th>OrderCount</th>\n",
       "      <th>DaySinceLastOrder</th>\n",
       "      <th>CashbackAmount</th>\n",
       "    </tr>\n",
       "  </thead>\n",
       "  <tbody>\n",
       "    <tr>\n",
       "      <th>0</th>\n",
       "      <td>50001</td>\n",
       "      <td>1</td>\n",
       "      <td>4.0</td>\n",
       "      <td>Mobile Phone</td>\n",
       "      <td>3</td>\n",
       "      <td>6.0</td>\n",
       "      <td>Debit Card</td>\n",
       "      <td>Female</td>\n",
       "      <td>3.0</td>\n",
       "      <td>3</td>\n",
       "      <td>Laptop &amp; Accessory</td>\n",
       "      <td>2</td>\n",
       "      <td>Single</td>\n",
       "      <td>9</td>\n",
       "      <td>1</td>\n",
       "      <td>11.0</td>\n",
       "      <td>1.0</td>\n",
       "      <td>1.0</td>\n",
       "      <td>5.0</td>\n",
       "      <td>159.93</td>\n",
       "    </tr>\n",
       "    <tr>\n",
       "      <th>1</th>\n",
       "      <td>50002</td>\n",
       "      <td>1</td>\n",
       "      <td>NaN</td>\n",
       "      <td>Phone</td>\n",
       "      <td>1</td>\n",
       "      <td>8.0</td>\n",
       "      <td>UPI</td>\n",
       "      <td>Male</td>\n",
       "      <td>3.0</td>\n",
       "      <td>4</td>\n",
       "      <td>Mobile</td>\n",
       "      <td>3</td>\n",
       "      <td>Single</td>\n",
       "      <td>7</td>\n",
       "      <td>1</td>\n",
       "      <td>15.0</td>\n",
       "      <td>0.0</td>\n",
       "      <td>1.0</td>\n",
       "      <td>0.0</td>\n",
       "      <td>120.90</td>\n",
       "    </tr>\n",
       "    <tr>\n",
       "      <th>2</th>\n",
       "      <td>50003</td>\n",
       "      <td>1</td>\n",
       "      <td>NaN</td>\n",
       "      <td>Phone</td>\n",
       "      <td>1</td>\n",
       "      <td>30.0</td>\n",
       "      <td>Debit Card</td>\n",
       "      <td>Male</td>\n",
       "      <td>2.0</td>\n",
       "      <td>4</td>\n",
       "      <td>Mobile</td>\n",
       "      <td>3</td>\n",
       "      <td>Single</td>\n",
       "      <td>6</td>\n",
       "      <td>1</td>\n",
       "      <td>14.0</td>\n",
       "      <td>0.0</td>\n",
       "      <td>1.0</td>\n",
       "      <td>3.0</td>\n",
       "      <td>120.28</td>\n",
       "    </tr>\n",
       "    <tr>\n",
       "      <th>3</th>\n",
       "      <td>50004</td>\n",
       "      <td>1</td>\n",
       "      <td>0.0</td>\n",
       "      <td>Phone</td>\n",
       "      <td>3</td>\n",
       "      <td>15.0</td>\n",
       "      <td>Debit Card</td>\n",
       "      <td>Male</td>\n",
       "      <td>2.0</td>\n",
       "      <td>4</td>\n",
       "      <td>Laptop &amp; Accessory</td>\n",
       "      <td>5</td>\n",
       "      <td>Single</td>\n",
       "      <td>8</td>\n",
       "      <td>0</td>\n",
       "      <td>23.0</td>\n",
       "      <td>0.0</td>\n",
       "      <td>1.0</td>\n",
       "      <td>3.0</td>\n",
       "      <td>134.07</td>\n",
       "    </tr>\n",
       "    <tr>\n",
       "      <th>4</th>\n",
       "      <td>50005</td>\n",
       "      <td>1</td>\n",
       "      <td>0.0</td>\n",
       "      <td>Phone</td>\n",
       "      <td>1</td>\n",
       "      <td>12.0</td>\n",
       "      <td>CC</td>\n",
       "      <td>Male</td>\n",
       "      <td>NaN</td>\n",
       "      <td>3</td>\n",
       "      <td>Mobile</td>\n",
       "      <td>5</td>\n",
       "      <td>Single</td>\n",
       "      <td>3</td>\n",
       "      <td>0</td>\n",
       "      <td>11.0</td>\n",
       "      <td>1.0</td>\n",
       "      <td>1.0</td>\n",
       "      <td>3.0</td>\n",
       "      <td>129.60</td>\n",
       "    </tr>\n",
       "  </tbody>\n",
       "</table>\n",
       "</div>"
      ],
      "text/plain": [
       "   CustomerID  Churn  Tenure PreferredLoginDevice  CityTier  WarehouseToHome  \\\n",
       "0       50001      1     4.0         Mobile Phone         3              6.0   \n",
       "1       50002      1     NaN                Phone         1              8.0   \n",
       "2       50003      1     NaN                Phone         1             30.0   \n",
       "3       50004      1     0.0                Phone         3             15.0   \n",
       "4       50005      1     0.0                Phone         1             12.0   \n",
       "\n",
       "  PreferredPaymentMode  Gender  HourSpendOnApp  NumberOfDeviceRegistered  \\\n",
       "0           Debit Card  Female             3.0                         3   \n",
       "1                  UPI    Male             3.0                         4   \n",
       "2           Debit Card    Male             2.0                         4   \n",
       "3           Debit Card    Male             2.0                         4   \n",
       "4                   CC    Male             NaN                         3   \n",
       "\n",
       "     PreferedOrderCat  SatisfactionScore MaritalStatus  NumberOfAddress  \\\n",
       "0  Laptop & Accessory                  2        Single                9   \n",
       "1              Mobile                  3        Single                7   \n",
       "2              Mobile                  3        Single                6   \n",
       "3  Laptop & Accessory                  5        Single                8   \n",
       "4              Mobile                  5        Single                3   \n",
       "\n",
       "   Complain  OrderAmountHikeFromlastYear  CouponUsed  OrderCount  \\\n",
       "0         1                         11.0         1.0         1.0   \n",
       "1         1                         15.0         0.0         1.0   \n",
       "2         1                         14.0         0.0         1.0   \n",
       "3         0                         23.0         0.0         1.0   \n",
       "4         0                         11.0         1.0         1.0   \n",
       "\n",
       "   DaySinceLastOrder  CashbackAmount  \n",
       "0                5.0          159.93  \n",
       "1                0.0          120.90  \n",
       "2                3.0          120.28  \n",
       "3                3.0          134.07  \n",
       "4                3.0          129.60  "
      ]
     },
     "execution_count": 2,
     "metadata": {},
     "output_type": "execute_result"
    }
   ],
   "source": [
    "data=pd.read_excel('E_Commerce_Dataset.xlsx', sheet_name='E Comm')\n",
    "data.head()"
   ]
  },
  {
   "cell_type": "markdown",
   "id": "7fc9363e",
   "metadata": {},
   "source": [
    "***Data preprocessing and cleaning***"
   ]
  },
  {
   "cell_type": "code",
   "execution_count": 95,
   "id": "5c80bd02",
   "metadata": {},
   "outputs": [
    {
     "name": "stdout",
     "output_type": "stream",
     "text": [
      "<class 'pandas.core.frame.DataFrame'>\n",
      "RangeIndex: 5630 entries, 0 to 5629\n",
      "Data columns (total 20 columns):\n",
      " #   Column                       Non-Null Count  Dtype  \n",
      "---  ------                       --------------  -----  \n",
      " 0   CustomerID                   5630 non-null   int64  \n",
      " 1   Churn                        5630 non-null   int64  \n",
      " 2   Tenure                       5366 non-null   float64\n",
      " 3   PreferredLoginDevice         5630 non-null   object \n",
      " 4   CityTier                     5630 non-null   int64  \n",
      " 5   WarehouseToHome              5379 non-null   float64\n",
      " 6   PreferredPaymentMode         5630 non-null   object \n",
      " 7   Gender                       5630 non-null   object \n",
      " 8   HourSpendOnApp               5375 non-null   float64\n",
      " 9   NumberOfDeviceRegistered     5630 non-null   int64  \n",
      " 10  PreferedOrderCat             5630 non-null   object \n",
      " 11  SatisfactionScore            5630 non-null   int64  \n",
      " 12  MaritalStatus                5630 non-null   object \n",
      " 13  NumberOfAddress              5630 non-null   int64  \n",
      " 14  Complain                     5630 non-null   int64  \n",
      " 15  OrderAmountHikeFromlastYear  5365 non-null   float64\n",
      " 16  CouponUsed                   5374 non-null   float64\n",
      " 17  OrderCount                   5372 non-null   float64\n",
      " 18  DaySinceLastOrder            5323 non-null   float64\n",
      " 19  CashbackAmount               5630 non-null   float64\n",
      "dtypes: float64(8), int64(7), object(5)\n",
      "memory usage: 879.8+ KB\n"
     ]
    }
   ],
   "source": [
    "data.info()"
   ]
  },
  {
   "cell_type": "code",
   "execution_count": 4,
   "id": "c6b984fe",
   "metadata": {},
   "outputs": [
    {
     "data": {
      "text/plain": [
       "CustomerID                     5630\n",
       "Churn                             2\n",
       "Tenure                           36\n",
       "PreferredLoginDevice              3\n",
       "CityTier                          3\n",
       "WarehouseToHome                  34\n",
       "PreferredPaymentMode              7\n",
       "Gender                            2\n",
       "HourSpendOnApp                    6\n",
       "NumberOfDeviceRegistered          6\n",
       "PreferedOrderCat                  6\n",
       "SatisfactionScore                 5\n",
       "MaritalStatus                     3\n",
       "NumberOfAddress                  15\n",
       "Complain                          2\n",
       "OrderAmountHikeFromlastYear      16\n",
       "CouponUsed                       17\n",
       "OrderCount                       16\n",
       "DaySinceLastOrder                22\n",
       "CashbackAmount                 2586\n",
       "dtype: int64"
      ]
     },
     "execution_count": 4,
     "metadata": {},
     "output_type": "execute_result"
    }
   ],
   "source": [
    "data.nunique()"
   ]
  },
  {
   "cell_type": "code",
   "execution_count": 5,
   "id": "b0b6e677",
   "metadata": {},
   "outputs": [
    {
     "data": {
      "text/html": [
       "<div>\n",
       "<style scoped>\n",
       "    .dataframe tbody tr th:only-of-type {\n",
       "        vertical-align: middle;\n",
       "    }\n",
       "\n",
       "    .dataframe tbody tr th {\n",
       "        vertical-align: top;\n",
       "    }\n",
       "\n",
       "    .dataframe thead th {\n",
       "        text-align: right;\n",
       "    }\n",
       "</style>\n",
       "<table border=\"1\" class=\"dataframe\">\n",
       "  <thead>\n",
       "    <tr style=\"text-align: right;\">\n",
       "      <th></th>\n",
       "      <th>CustomerID</th>\n",
       "      <th>Churn</th>\n",
       "      <th>Tenure</th>\n",
       "      <th>PreferredLoginDevice</th>\n",
       "      <th>CityTier</th>\n",
       "      <th>WarehouseToHome</th>\n",
       "      <th>PreferredPaymentMode</th>\n",
       "      <th>Gender</th>\n",
       "      <th>HourSpendOnApp</th>\n",
       "      <th>NumberOfDeviceRegistered</th>\n",
       "      <th>PreferedOrderCat</th>\n",
       "      <th>SatisfactionScore</th>\n",
       "      <th>MaritalStatus</th>\n",
       "      <th>NumberOfAddress</th>\n",
       "      <th>Complain</th>\n",
       "      <th>OrderAmountHikeFromlastYear</th>\n",
       "      <th>CouponUsed</th>\n",
       "      <th>OrderCount</th>\n",
       "      <th>DaySinceLastOrder</th>\n",
       "      <th>CashbackAmount</th>\n",
       "    </tr>\n",
       "  </thead>\n",
       "  <tbody>\n",
       "  </tbody>\n",
       "</table>\n",
       "</div>"
      ],
      "text/plain": [
       "Empty DataFrame\n",
       "Columns: [CustomerID, Churn, Tenure, PreferredLoginDevice, CityTier, WarehouseToHome, PreferredPaymentMode, Gender, HourSpendOnApp, NumberOfDeviceRegistered, PreferedOrderCat, SatisfactionScore, MaritalStatus, NumberOfAddress, Complain, OrderAmountHikeFromlastYear, CouponUsed, OrderCount, DaySinceLastOrder, CashbackAmount]\n",
       "Index: []"
      ]
     },
     "execution_count": 5,
     "metadata": {},
     "output_type": "execute_result"
    }
   ],
   "source": [
    "#Looking for duplicated data\n",
    "duplicate = data[data.duplicated(['CustomerID'])]\n",
    "duplicate"
   ]
  },
  {
   "cell_type": "code",
   "execution_count": 3,
   "id": "05020089",
   "metadata": {},
   "outputs": [
    {
     "data": {
      "text/html": [
       "<div>\n",
       "<style scoped>\n",
       "    .dataframe tbody tr th:only-of-type {\n",
       "        vertical-align: middle;\n",
       "    }\n",
       "\n",
       "    .dataframe tbody tr th {\n",
       "        vertical-align: top;\n",
       "    }\n",
       "\n",
       "    .dataframe thead th {\n",
       "        text-align: right;\n",
       "    }\n",
       "</style>\n",
       "<table border=\"1\" class=\"dataframe\">\n",
       "  <thead>\n",
       "    <tr style=\"text-align: right;\">\n",
       "      <th></th>\n",
       "      <th>Churn</th>\n",
       "      <th>Tenure</th>\n",
       "      <th>PreferredLoginDevice</th>\n",
       "      <th>PreferredPaymentMode</th>\n",
       "      <th>HourSpendOnApp</th>\n",
       "      <th>NumberOfDeviceRegistered</th>\n",
       "      <th>SatisfactionScore</th>\n",
       "      <th>Complain</th>\n",
       "      <th>OrderAmountHikeFromlastYear</th>\n",
       "      <th>OrderCount</th>\n",
       "      <th>DaySinceLastOrder</th>\n",
       "      <th>CashbackAmount</th>\n",
       "    </tr>\n",
       "  </thead>\n",
       "  <tbody>\n",
       "    <tr>\n",
       "      <th>0</th>\n",
       "      <td>1</td>\n",
       "      <td>4.0</td>\n",
       "      <td>Mobile Phone</td>\n",
       "      <td>Debit Card</td>\n",
       "      <td>3.0</td>\n",
       "      <td>3</td>\n",
       "      <td>2</td>\n",
       "      <td>1</td>\n",
       "      <td>11.0</td>\n",
       "      <td>1.0</td>\n",
       "      <td>5.0</td>\n",
       "      <td>159.93</td>\n",
       "    </tr>\n",
       "    <tr>\n",
       "      <th>1</th>\n",
       "      <td>1</td>\n",
       "      <td>NaN</td>\n",
       "      <td>Phone</td>\n",
       "      <td>UPI</td>\n",
       "      <td>3.0</td>\n",
       "      <td>4</td>\n",
       "      <td>3</td>\n",
       "      <td>1</td>\n",
       "      <td>15.0</td>\n",
       "      <td>1.0</td>\n",
       "      <td>0.0</td>\n",
       "      <td>120.90</td>\n",
       "    </tr>\n",
       "    <tr>\n",
       "      <th>2</th>\n",
       "      <td>1</td>\n",
       "      <td>NaN</td>\n",
       "      <td>Phone</td>\n",
       "      <td>Debit Card</td>\n",
       "      <td>2.0</td>\n",
       "      <td>4</td>\n",
       "      <td>3</td>\n",
       "      <td>1</td>\n",
       "      <td>14.0</td>\n",
       "      <td>1.0</td>\n",
       "      <td>3.0</td>\n",
       "      <td>120.28</td>\n",
       "    </tr>\n",
       "    <tr>\n",
       "      <th>3</th>\n",
       "      <td>1</td>\n",
       "      <td>0.0</td>\n",
       "      <td>Phone</td>\n",
       "      <td>Debit Card</td>\n",
       "      <td>2.0</td>\n",
       "      <td>4</td>\n",
       "      <td>5</td>\n",
       "      <td>0</td>\n",
       "      <td>23.0</td>\n",
       "      <td>1.0</td>\n",
       "      <td>3.0</td>\n",
       "      <td>134.07</td>\n",
       "    </tr>\n",
       "    <tr>\n",
       "      <th>4</th>\n",
       "      <td>1</td>\n",
       "      <td>0.0</td>\n",
       "      <td>Phone</td>\n",
       "      <td>CC</td>\n",
       "      <td>NaN</td>\n",
       "      <td>3</td>\n",
       "      <td>5</td>\n",
       "      <td>0</td>\n",
       "      <td>11.0</td>\n",
       "      <td>1.0</td>\n",
       "      <td>3.0</td>\n",
       "      <td>129.60</td>\n",
       "    </tr>\n",
       "  </tbody>\n",
       "</table>\n",
       "</div>"
      ],
      "text/plain": [
       "   Churn  Tenure PreferredLoginDevice PreferredPaymentMode  HourSpendOnApp  \\\n",
       "0      1     4.0         Mobile Phone           Debit Card             3.0   \n",
       "1      1     NaN                Phone                  UPI             3.0   \n",
       "2      1     NaN                Phone           Debit Card             2.0   \n",
       "3      1     0.0                Phone           Debit Card             2.0   \n",
       "4      1     0.0                Phone                   CC             NaN   \n",
       "\n",
       "   NumberOfDeviceRegistered  SatisfactionScore  Complain  \\\n",
       "0                         3                  2         1   \n",
       "1                         4                  3         1   \n",
       "2                         4                  3         1   \n",
       "3                         4                  5         0   \n",
       "4                         3                  5         0   \n",
       "\n",
       "   OrderAmountHikeFromlastYear  OrderCount  DaySinceLastOrder  CashbackAmount  \n",
       "0                         11.0         1.0                5.0          159.93  \n",
       "1                         15.0         1.0                0.0          120.90  \n",
       "2                         14.0         1.0                3.0          120.28  \n",
       "3                         23.0         1.0                3.0          134.07  \n",
       "4                         11.0         1.0                3.0          129.60  "
      ]
     },
     "execution_count": 3,
     "metadata": {},
     "output_type": "execute_result"
    }
   ],
   "source": [
    "#Since our objective is to determine if a customer will churn or not, columns that are not relatd or does not add value to\n",
    "#the analysis were deleted. \n",
    "df = data.drop(columns={'CustomerID', 'PreferedOrderCat', 'Gender', 'CityTier', 'WarehouseToHome', 'MaritalStatus', 'NumberOfAddress', 'CouponUsed'})\n",
    "df.head()"
   ]
  },
  {
   "cell_type": "markdown",
   "id": "d72467df",
   "metadata": {},
   "source": [
    "*** Handling missing values ***"
   ]
  },
  {
   "cell_type": "code",
   "execution_count": 7,
   "id": "20310608",
   "metadata": {},
   "outputs": [
    {
     "data": {
      "text/plain": [
       "Churn                            0\n",
       "Tenure                         264\n",
       "PreferredLoginDevice             0\n",
       "PreferredPaymentMode             0\n",
       "HourSpendOnApp                 255\n",
       "NumberOfDeviceRegistered         0\n",
       "SatisfactionScore                0\n",
       "Complain                         0\n",
       "OrderAmountHikeFromlastYear    265\n",
       "OrderCount                     258\n",
       "DaySinceLastOrder              307\n",
       "CashbackAmount                   0\n",
       "dtype: int64"
      ]
     },
     "execution_count": 7,
     "metadata": {},
     "output_type": "execute_result"
    }
   ],
   "source": [
    "df.isnull().sum()"
   ]
  },
  {
   "cell_type": "code",
   "execution_count": 8,
   "id": "aad66cd0",
   "metadata": {},
   "outputs": [
    {
     "data": {
      "text/plain": [
       "Text(0.5, 1.0, 'Total Missing Values')"
      ]
     },
     "execution_count": 8,
     "metadata": {},
     "output_type": "execute_result"
    },
    {
     "data": {
      "image/png": "[encoded data removed]",
      "text/plain": [
       "<Figure size 576x432 with 1 Axes>"
      ]
     },
     "metadata": {
      "needs_background": "light"
     },
     "output_type": "display_data"
    }
   ],
   "source": [
    "# Displaying missing values\n",
    "total = df.isnull().sum().sort_values(ascending=False)\n",
    "total_select = total.head(20)\n",
    "total_select.plot(kind=\"bar\", figsize = (8,6), fontsize = 10)\n",
    "\n",
    "plt.xlabel(\"Columns\", fontsize = 20)\n",
    "plt.ylabel(\"Count\", fontsize = 20)\n",
    "plt.title(\"Total Missing Values\", fontsize = 20)"
   ]
  },
  {
   "cell_type": "code",
   "execution_count": 4,
   "id": "e34ceb52",
   "metadata": {},
   "outputs": [],
   "source": [
    "#In this way features with messing values are filled out with the media, mean or any other statistic. \n",
    "median = df[\"DaySinceLastOrder\"].median()\n",
    "mean = df['HourSpendOnApp'].mean()"
   ]
  },
  {
   "cell_type": "code",
   "execution_count": 5,
   "id": "9e59f247",
   "metadata": {},
   "outputs": [],
   "source": [
    "df[\"DaySinceLastOrder\"].fillna(median, inplace = True) #To fill out NaN with the median\n",
    "df[\"HourSpendOnApp\"].fillna(mean, inplace = True)"
   ]
  },
  {
   "cell_type": "code",
   "execution_count": 7,
   "id": "5b8067c5",
   "metadata": {},
   "outputs": [],
   "source": [
    "#To drod NaN in all rows\n",
    "new_df=df.dropna()\n",
    "#Drop the full col is another alternative "
   ]
  },
  {
   "cell_type": "code",
   "execution_count": 8,
   "id": "d5eb69b7",
   "metadata": {},
   "outputs": [
    {
     "data": {
      "text/plain": [
       "Churn                          0\n",
       "Tenure                         0\n",
       "PreferredLoginDevice           0\n",
       "PreferredPaymentMode           0\n",
       "HourSpendOnApp                 0\n",
       "NumberOfDeviceRegistered       0\n",
       "SatisfactionScore              0\n",
       "Complain                       0\n",
       "OrderAmountHikeFromlastYear    0\n",
       "OrderCount                     0\n",
       "DaySinceLastOrder              0\n",
       "CashbackAmount                 0\n",
       "dtype: int64"
      ]
     },
     "execution_count": 8,
     "metadata": {},
     "output_type": "execute_result"
    }
   ],
   "source": [
    "new_df.isnull().sum()"
   ]
  },
  {
   "cell_type": "markdown",
   "id": "2a4178ee",
   "metadata": {},
   "source": [
    "Features DaySinceLastOrder and HourSpendOnApp were filled out with their median and all others with missing values were dropped out, now we have a clean dataset without missing values."
   ]
  },
  {
   "cell_type": "markdown",
   "id": "7cc31d0b",
   "metadata": {},
   "source": [
    "*** Feature engineering ***  \n",
    "Data type objects columns PreferredLoginDevice and PreferredPaymentMode are transformed to include in the analysis"
   ]
  },
  {
   "cell_type": "code",
   "execution_count": 9,
   "id": "7f20ac4b",
   "metadata": {},
   "outputs": [
    {
     "data": {
      "text/plain": [
       "Debit Card          2006\n",
       "Credit Card         1297\n",
       "E wallet             550\n",
       "UPI                  357\n",
       "COD                  355\n",
       "CC                   193\n",
       "Cash on Delivery      85\n",
       "Name: PreferredPaymentMode, dtype: int64"
      ]
     },
     "execution_count": 9,
     "metadata": {},
     "output_type": "execute_result"
    }
   ],
   "source": [
    "new_df['PreferredPaymentMode'].value_counts()"
   ]
  },
  {
   "cell_type": "code",
   "execution_count": 10,
   "id": "9e6f9366",
   "metadata": {},
   "outputs": [
    {
     "name": "stderr",
     "output_type": "stream",
     "text": [
      "C:\\Users\\Javier\\AppData\\Local\\Temp\\ipykernel_5412\\2295923371.py:2: SettingWithCopyWarning: \n",
      "A value is trying to be set on a copy of a slice from a DataFrame\n",
      "\n",
      "See the caveats in the documentation: https://pandas.pydata.org/pandas-docs/stable/user_guide/indexing.html#returning-a-view-versus-a-copy\n",
      "  new_df.replace({\"Debit Card\":0,\"Credit Card\":1,\"E wallet\":2, \"UPI\":3, \"COD\":4, \"CC\":5, \"Cash on Delivery\":6},inplace=True)\n"
     ]
    }
   ],
   "source": [
    "new_df['PreferredPaymentMode'].unique().tolist()\n",
    "new_df.replace({\"Debit Card\":0,\"Credit Card\":1,\"E wallet\":2, \"UPI\":3, \"COD\":4, \"CC\":5, \"Cash on Delivery\":6},inplace=True)"
   ]
  },
  {
   "cell_type": "code",
   "execution_count": 11,
   "id": "eeee7dfc",
   "metadata": {},
   "outputs": [
    {
     "data": {
      "text/plain": [
       "Mobile Phone    2347\n",
       "Computer        1414\n",
       "Phone           1082\n",
       "Name: PreferredLoginDevice, dtype: int64"
      ]
     },
     "execution_count": 11,
     "metadata": {},
     "output_type": "execute_result"
    }
   ],
   "source": [
    "new_df['PreferredLoginDevice'].value_counts()"
   ]
  },
  {
   "cell_type": "markdown",
   "id": "327bf50d",
   "metadata": {},
   "source": [
    "*** Data findings ***\n",
    "\n",
    "The original dataset was composed by float64(8), int64(7) and object(5) data types, 19 features and 5630 entries. \n",
    "There were no duplicates. The features 'DaySinceLastOrder' (307), 'OrderAmountHikeFromlastYear' (265), 'Tenure' (264), 'OrderCount' (258) and 'HourSpendOnApp' (255) had missing values. \n",
    "\n",
    "Taking in cosideration that the objective is to predict if a custumer will or will not churn, the features 'CustomerID', 'PreferedOrderCat', 'Gender', 'CityTier', 'WarehouseToHome', 'MaritalStatus', 'NumberOfAddress' and 'CouponUsed' were deleted due to its low importance and relation with the varible outcome.  \n",
    "\n",
    "To proceed with the analysis, the features 'PreferredLoginDevice' and 'PreferredPaymentMode' were labeled encoded aiming to include in the modelling.\n",
    "\n",
    "The resulting dataset is constituted by 11 features and the outcome variable."
   ]
  },
  {
   "cell_type": "code",
   "execution_count": 12,
   "id": "f33df5f2",
   "metadata": {
    "scrolled": false
   },
   "outputs": [
    {
     "name": "stderr",
     "output_type": "stream",
     "text": [
      "C:\\Users\\Javier\\AppData\\Local\\Temp\\ipykernel_5412\\3485952789.py:2: SettingWithCopyWarning: \n",
      "A value is trying to be set on a copy of a slice from a DataFrame\n",
      "\n",
      "See the caveats in the documentation: https://pandas.pydata.org/pandas-docs/stable/user_guide/indexing.html#returning-a-view-versus-a-copy\n",
      "  new_df.replace({\"Mobile Phone\":0,\"Computer\":1,\"Phone\":0},inplace=True)\n"
     ]
    }
   ],
   "source": [
    "new_df['PreferredLoginDevice'].unique().tolist()\n",
    "new_df.replace({\"Mobile Phone\":0,\"Computer\":1,\"Phone\":0},inplace=True)"
   ]
  },
  {
   "cell_type": "markdown",
   "id": "b72777c7",
   "metadata": {},
   "source": [
    "# Classifier models"
   ]
  },
  {
   "cell_type": "code",
   "execution_count": 17,
   "id": "1c00ef57",
   "metadata": {},
   "outputs": [],
   "source": [
    "#A method to split training and testing dataset\n",
    "rs = 123\n",
    "def split_data(df):\n",
    "    X = df.loc[ : , df.columns != 'Churn']\n",
    "    y = df['Churn'].astype('int')\n",
    "    return train_test_split(X, y, test_size=0.2, stratify=y, random_state = rs)"
   ]
  },
  {
   "cell_type": "code",
   "execution_count": 13,
   "id": "72d49a5c",
   "metadata": {},
   "outputs": [
    {
     "data": {
      "text/html": [
       "<div>\n",
       "<style scoped>\n",
       "    .dataframe tbody tr th:only-of-type {\n",
       "        vertical-align: middle;\n",
       "    }\n",
       "\n",
       "    .dataframe tbody tr th {\n",
       "        vertical-align: top;\n",
       "    }\n",
       "\n",
       "    .dataframe thead th {\n",
       "        text-align: right;\n",
       "    }\n",
       "</style>\n",
       "<table border=\"1\" class=\"dataframe\">\n",
       "  <thead>\n",
       "    <tr style=\"text-align: right;\">\n",
       "      <th></th>\n",
       "      <th>Tenure</th>\n",
       "      <th>PreferredLoginDevice</th>\n",
       "      <th>PreferredPaymentMode</th>\n",
       "      <th>HourSpendOnApp</th>\n",
       "      <th>NumberOfDeviceRegistered</th>\n",
       "      <th>SatisfactionScore</th>\n",
       "      <th>Complain</th>\n",
       "      <th>OrderAmountHikeFromlastYear</th>\n",
       "      <th>OrderCount</th>\n",
       "      <th>DaySinceLastOrder</th>\n",
       "      <th>CashbackAmount</th>\n",
       "    </tr>\n",
       "  </thead>\n",
       "  <tbody>\n",
       "    <tr>\n",
       "      <th>5625</th>\n",
       "      <td>10.0</td>\n",
       "      <td>1</td>\n",
       "      <td>1</td>\n",
       "      <td>3.0</td>\n",
       "      <td>2</td>\n",
       "      <td>1</td>\n",
       "      <td>0</td>\n",
       "      <td>18.0</td>\n",
       "      <td>2.0</td>\n",
       "      <td>4.0</td>\n",
       "      <td>150.71</td>\n",
       "    </tr>\n",
       "    <tr>\n",
       "      <th>5626</th>\n",
       "      <td>13.0</td>\n",
       "      <td>0</td>\n",
       "      <td>1</td>\n",
       "      <td>3.0</td>\n",
       "      <td>5</td>\n",
       "      <td>5</td>\n",
       "      <td>0</td>\n",
       "      <td>16.0</td>\n",
       "      <td>2.0</td>\n",
       "      <td>3.0</td>\n",
       "      <td>224.91</td>\n",
       "    </tr>\n",
       "    <tr>\n",
       "      <th>5627</th>\n",
       "      <td>1.0</td>\n",
       "      <td>0</td>\n",
       "      <td>0</td>\n",
       "      <td>3.0</td>\n",
       "      <td>2</td>\n",
       "      <td>4</td>\n",
       "      <td>1</td>\n",
       "      <td>21.0</td>\n",
       "      <td>2.0</td>\n",
       "      <td>4.0</td>\n",
       "      <td>186.42</td>\n",
       "    </tr>\n",
       "    <tr>\n",
       "      <th>5628</th>\n",
       "      <td>23.0</td>\n",
       "      <td>1</td>\n",
       "      <td>1</td>\n",
       "      <td>4.0</td>\n",
       "      <td>5</td>\n",
       "      <td>4</td>\n",
       "      <td>0</td>\n",
       "      <td>15.0</td>\n",
       "      <td>2.0</td>\n",
       "      <td>9.0</td>\n",
       "      <td>178.90</td>\n",
       "    </tr>\n",
       "    <tr>\n",
       "      <th>5629</th>\n",
       "      <td>8.0</td>\n",
       "      <td>0</td>\n",
       "      <td>1</td>\n",
       "      <td>3.0</td>\n",
       "      <td>2</td>\n",
       "      <td>3</td>\n",
       "      <td>0</td>\n",
       "      <td>13.0</td>\n",
       "      <td>2.0</td>\n",
       "      <td>3.0</td>\n",
       "      <td>169.04</td>\n",
       "    </tr>\n",
       "  </tbody>\n",
       "</table>\n",
       "</div>"
      ],
      "text/plain": [
       "      Tenure  PreferredLoginDevice  PreferredPaymentMode  HourSpendOnApp  \\\n",
       "5625    10.0                     1                     1             3.0   \n",
       "5626    13.0                     0                     1             3.0   \n",
       "5627     1.0                     0                     0             3.0   \n",
       "5628    23.0                     1                     1             4.0   \n",
       "5629     8.0                     0                     1             3.0   \n",
       "\n",
       "      NumberOfDeviceRegistered  SatisfactionScore  Complain  \\\n",
       "5625                         2                  1         0   \n",
       "5626                         5                  5         0   \n",
       "5627                         2                  4         1   \n",
       "5628                         5                  4         0   \n",
       "5629                         2                  3         0   \n",
       "\n",
       "      OrderAmountHikeFromlastYear  OrderCount  DaySinceLastOrder  \\\n",
       "5625                         18.0         2.0                4.0   \n",
       "5626                         16.0         2.0                3.0   \n",
       "5627                         21.0         2.0                4.0   \n",
       "5628                         15.0         2.0                9.0   \n",
       "5629                         13.0         2.0                3.0   \n",
       "\n",
       "      CashbackAmount  \n",
       "5625          150.71  \n",
       "5626          224.91  \n",
       "5627          186.42  \n",
       "5628          178.90  \n",
       "5629          169.04  "
      ]
     },
     "execution_count": 13,
     "metadata": {},
     "output_type": "execute_result"
    }
   ],
   "source": [
    "x=new_df.loc[:, new_df.columns != 'Churn']\n",
    "x.tail()"
   ]
  },
  {
   "cell_type": "code",
   "execution_count": null,
   "id": "96d9ce32",
   "metadata": {},
   "outputs": [],
   "source": []
  },
  {
   "cell_type": "code",
   "execution_count": 19,
   "id": "698b9b4f",
   "metadata": {},
   "outputs": [],
   "source": [
    "#Method to define and tune logistic regression model\n",
    "rs = 123\n",
    "def build_lr(X_train, y_train, X_test, threshold=0.5, best_params=None):\n",
    "    \n",
    "    model = LogisticRegression(random_state=rs, \n",
    "                              max_iter = 1000)\n",
    "    # If best parameters are provided\n",
    "    if best_params:\n",
    "        model = LogisticRegression(penalty = 'l2',\n",
    "                              random_state=rs, \n",
    "                              max_iter = 1000,\n",
    "                              class_weight=best_params['class_weight'])\n",
    "    # Train the model\n",
    "    model.fit(X_train, y_train)\n",
    "    # If predicted probability is larger than threshold (default value is 0.5), generate a positive label\n",
    "    predicted_proba = model.predict_proba(X_test)\n",
    "    yp = (predicted_proba [:,1] >= threshold).astype('int')\n",
    "    return yp, model"
   ]
  },
  {
   "cell_type": "code",
   "execution_count": 20,
   "id": "4c1953b0",
   "metadata": {},
   "outputs": [],
   "source": [
    "#A method to define and train a random forest:\n",
    "def build_rf(X_train, y_train, X_test, threshold=0.5, best_params=None):\n",
    "    \n",
    "    model = RandomForestClassifier(random_state = rs)\n",
    "    # If best parameters are provided\n",
    "    if best_params:\n",
    "        model = RandomForestClassifier(random_state = rs,\n",
    "                                   # If bootstrap sampling is used\n",
    "                                   bootstrap = best_params['bootstrap'],\n",
    "                                   # Max depth of each tree\n",
    "                                   max_depth = best_params['max_depth'],\n",
    "                                   # Class weight parameters\n",
    "                                   class_weight=best_params['class_weight'],\n",
    "                                   # Number of trees\n",
    "                                   n_estimators=best_params['n_estimators'],\n",
    "                                   # Minimal samples to split\n",
    "                                   min_samples_split=best_params['min_samples_split'])\n",
    "    # Train the model   \n",
    "    model.fit(X_train, y_train)\n",
    "    # If predicted probability is largr than threshold (default value is 0.5), generate a positive label\n",
    "    predicted_proba = model.predict_proba(X_test)\n",
    "    yp = (predicted_proba [:,1] >= threshold).astype('int')\n",
    "    return yp, model"
   ]
  },
  {
   "cell_type": "code",
   "execution_count": 22,
   "id": "365ba06b",
   "metadata": {},
   "outputs": [],
   "source": [
    "#A method to evaluate a classifier's predictions\n",
    "rs = 123\n",
    "def evaluate(yt, yp, eval_type=\"Original\"):\n",
    "    results_pos = {}\n",
    "    results_pos['type'] = eval_type\n",
    "    # Accuracy\n",
    "    results_pos['accuracy'] = accuracy_score(yt, yp)\n",
    "    # Precision, recall, Fscore\n",
    "    precision, recall, f_beta, _ = precision_recall_fscore_support(yt, yp, beta=5, pos_label=1, average='binary')\n",
    "    results_pos['recall'] = recall\n",
    "    # AUC\n",
    "    results_pos['auc'] = roc_auc_score(yt, yp)\n",
    "    # Precision\n",
    "    results_pos['precision'] = precision\n",
    "    # Fscore\n",
    "    results_pos['fscore'] = f_beta\n",
    "    return results_pos"
   ]
  },
  {
   "cell_type": "code",
   "execution_count": 23,
   "id": "916709b7",
   "metadata": {},
   "outputs": [],
   "source": [
    "#A method to resample the original dataset\n",
    "def resample(X_train, y_train):\n",
    "    # SMOTE sampler (Oversampling)\n",
    "    smote_sampler = SMOTE(random_state = 123)\n",
    "    # Undersampling\n",
    "    under_sampler = RandomUnderSampler(random_state=123)\n",
    "    # Resampled datasets\n",
    "    X_smo, y_smo = smote_sampler.fit_resample(X_train, y_train)\n",
    "    X_under, y_under = under_sampler.fit_resample(X_train, y_train)\n",
    "    return X_smo, y_smo, X_under, y_under"
   ]
  },
  {
   "cell_type": "code",
   "execution_count": 24,
   "id": "903a9671",
   "metadata": {},
   "outputs": [],
   "source": [
    "#A method to visualize metrics\n",
    "def visualize_eval_metrics(results):\n",
    "    df = pd.DataFrame(data=results)\n",
    "    #table = pd.pivot_table(df, values='type', index=['accuracy', 'precision', 'recall', 'f1', 'auc'],\n",
    "    #                columns=['type'])\n",
    "    #df = df.set_index('type').transpose()\n",
    "    print(df)\n",
    "    x = np.arange(5)\n",
    "    original = df.iloc[0, 1:].values\n",
    "    class_weight = df.iloc[1, 1:].values\n",
    "    smote = df.iloc[2, 1:].values\n",
    "    under = df.iloc[3, 1:].values\n",
    "    width = 0.2\n",
    "    figure(figsize=(12, 10), dpi=80)\n",
    "    plt.bar(x-0.2, original, width, color='#95a5a6')\n",
    "    plt.bar(x, class_weight, width, color='#d35400')\n",
    "    plt.bar(x+0.2, smote, width, color='#2980b9')\n",
    "    plt.bar(x+0.4, under, width, color='#3498db')\n",
    "    plt.xticks(x, ['Accuracy', 'Recall', 'AUC', 'Precision', 'Fscore'])\n",
    "    plt.xlabel(\"Evaluation Metrics\")\n",
    "    plt.ylabel(\"Score\")\n",
    "    plt.legend([\"Original\", \"Class Weight\", \"SMOTE\", \"Undersampling\"])\n",
    "    plt.show()"
   ]
  },
  {
   "cell_type": "markdown",
   "id": "4795d687",
   "metadata": {},
   "source": [
    "*** Modelling ***"
   ]
  },
  {
   "cell_type": "code",
   "execution_count": 25,
   "id": "ff75e4b0",
   "metadata": {
    "scrolled": true
   },
   "outputs": [
    {
     "data": {
      "text/html": [
       "<div>\n",
       "<style scoped>\n",
       "    .dataframe tbody tr th:only-of-type {\n",
       "        vertical-align: middle;\n",
       "    }\n",
       "\n",
       "    .dataframe tbody tr th {\n",
       "        vertical-align: top;\n",
       "    }\n",
       "\n",
       "    .dataframe thead th {\n",
       "        text-align: right;\n",
       "    }\n",
       "</style>\n",
       "<table border=\"1\" class=\"dataframe\">\n",
       "  <thead>\n",
       "    <tr style=\"text-align: right;\">\n",
       "      <th></th>\n",
       "      <th>Churn</th>\n",
       "      <th>Tenure</th>\n",
       "      <th>PreferredLoginDevice</th>\n",
       "      <th>PreferredPaymentMode</th>\n",
       "      <th>HourSpendOnApp</th>\n",
       "      <th>NumberOfDeviceRegistered</th>\n",
       "      <th>SatisfactionScore</th>\n",
       "      <th>Complain</th>\n",
       "      <th>OrderAmountHikeFromlastYear</th>\n",
       "      <th>OrderCount</th>\n",
       "      <th>DaySinceLastOrder</th>\n",
       "      <th>CashbackAmount</th>\n",
       "    </tr>\n",
       "  </thead>\n",
       "  <tbody>\n",
       "    <tr>\n",
       "      <th>0</th>\n",
       "      <td>1</td>\n",
       "      <td>4.0</td>\n",
       "      <td>0</td>\n",
       "      <td>0</td>\n",
       "      <td>3.000000</td>\n",
       "      <td>3</td>\n",
       "      <td>2</td>\n",
       "      <td>1</td>\n",
       "      <td>11.0</td>\n",
       "      <td>1.0</td>\n",
       "      <td>5.0</td>\n",
       "      <td>159.93</td>\n",
       "    </tr>\n",
       "    <tr>\n",
       "      <th>3</th>\n",
       "      <td>1</td>\n",
       "      <td>0.0</td>\n",
       "      <td>0</td>\n",
       "      <td>0</td>\n",
       "      <td>2.000000</td>\n",
       "      <td>4</td>\n",
       "      <td>5</td>\n",
       "      <td>0</td>\n",
       "      <td>23.0</td>\n",
       "      <td>1.0</td>\n",
       "      <td>3.0</td>\n",
       "      <td>134.07</td>\n",
       "    </tr>\n",
       "    <tr>\n",
       "      <th>4</th>\n",
       "      <td>1</td>\n",
       "      <td>0.0</td>\n",
       "      <td>0</td>\n",
       "      <td>5</td>\n",
       "      <td>2.931535</td>\n",
       "      <td>3</td>\n",
       "      <td>5</td>\n",
       "      <td>0</td>\n",
       "      <td>11.0</td>\n",
       "      <td>1.0</td>\n",
       "      <td>3.0</td>\n",
       "      <td>129.60</td>\n",
       "    </tr>\n",
       "    <tr>\n",
       "      <th>5</th>\n",
       "      <td>1</td>\n",
       "      <td>0.0</td>\n",
       "      <td>1</td>\n",
       "      <td>0</td>\n",
       "      <td>3.000000</td>\n",
       "      <td>5</td>\n",
       "      <td>5</td>\n",
       "      <td>1</td>\n",
       "      <td>22.0</td>\n",
       "      <td>6.0</td>\n",
       "      <td>7.0</td>\n",
       "      <td>139.19</td>\n",
       "    </tr>\n",
       "    <tr>\n",
       "      <th>8</th>\n",
       "      <td>1</td>\n",
       "      <td>13.0</td>\n",
       "      <td>0</td>\n",
       "      <td>2</td>\n",
       "      <td>2.931535</td>\n",
       "      <td>4</td>\n",
       "      <td>3</td>\n",
       "      <td>1</td>\n",
       "      <td>14.0</td>\n",
       "      <td>1.0</td>\n",
       "      <td>2.0</td>\n",
       "      <td>126.83</td>\n",
       "    </tr>\n",
       "  </tbody>\n",
       "</table>\n",
       "</div>"
      ],
      "text/plain": [
       "   Churn  Tenure  PreferredLoginDevice  PreferredPaymentMode  HourSpendOnApp  \\\n",
       "0      1     4.0                     0                     0        3.000000   \n",
       "3      1     0.0                     0                     0        2.000000   \n",
       "4      1     0.0                     0                     5        2.931535   \n",
       "5      1     0.0                     1                     0        3.000000   \n",
       "8      1    13.0                     0                     2        2.931535   \n",
       "\n",
       "   NumberOfDeviceRegistered  SatisfactionScore  Complain  \\\n",
       "0                         3                  2         1   \n",
       "3                         4                  5         0   \n",
       "4                         3                  5         0   \n",
       "5                         5                  5         1   \n",
       "8                         4                  3         1   \n",
       "\n",
       "   OrderAmountHikeFromlastYear  OrderCount  DaySinceLastOrder  CashbackAmount  \n",
       "0                         11.0         1.0                5.0          159.93  \n",
       "3                         23.0         1.0                3.0          134.07  \n",
       "4                         11.0         1.0                3.0          129.60  \n",
       "5                         22.0         6.0                7.0          139.19  \n",
       "8                         14.0         1.0                2.0          126.83  "
      ]
     },
     "execution_count": 25,
     "metadata": {},
     "output_type": "execute_result"
    }
   ],
   "source": [
    "new_df.head()"
   ]
  },
  {
   "cell_type": "code",
   "execution_count": 26,
   "id": "62b4738b",
   "metadata": {},
   "outputs": [],
   "source": [
    "X_train, X_test, y_train, y_test = split_data(new_df)"
   ]
  },
  {
   "cell_type": "code",
   "execution_count": 27,
   "id": "cbabb8fe",
   "metadata": {},
   "outputs": [
    {
     "data": {
      "text/plain": [
       "0    0.827586\n",
       "1    0.172414\n",
       "Name: Churn, dtype: float64"
      ]
     },
     "execution_count": 27,
     "metadata": {},
     "output_type": "execute_result"
    }
   ],
   "source": [
    "new_df.iloc[:, 0].value_counts(normalize=True)"
   ]
  },
  {
   "cell_type": "code",
   "execution_count": 28,
   "id": "982f4ea2",
   "metadata": {},
   "outputs": [
    {
     "data": {
      "text/plain": [
       "<AxesSubplot:>"
      ]
     },
     "execution_count": 28,
     "metadata": {},
     "output_type": "execute_result"
    },
    {
     "data": {
      "image/png": "[encoded data removed]",
      "text/plain": [
       "<Figure size 432x288 with 1 Axes>"
      ]
     },
     "metadata": {
      "needs_background": "light"
     },
     "output_type": "display_data"
    }
   ],
   "source": [
    "y_train.value_counts().plot.bar(color=['green', 'red'])"
   ]
  },
  {
   "cell_type": "markdown",
   "id": "d90b7a27",
   "metadata": {},
   "source": [
    "As we can see from the bar chart above, the non-churn customers are almost 4 times more than the churn customers, which makes it an imbalanced dataset as well."
   ]
  },
  {
   "cell_type": "markdown",
   "id": "b2063edd",
   "metadata": {},
   "source": [
    "# *** Model 1: Random Forest ***"
   ]
  },
  {
   "cell_type": "code",
   "execution_count": 101,
   "id": "329c3d38",
   "metadata": {},
   "outputs": [],
   "source": [
    "best_params_no_weight = {'bootstrap': True,\n",
    "                         'class_weight': None, \n",
    "                         'max_depth': 10, \n",
    "                         'min_samples_split': 5, \n",
    "                         'n_estimators': 50}"
   ]
  },
  {
   "cell_type": "code",
   "execution_count": 30,
   "id": "c63fecd5",
   "metadata": {},
   "outputs": [],
   "source": [
    "results=[]"
   ]
  },
  {
   "cell_type": "code",
   "execution_count": 31,
   "id": "b8b6a2e5",
   "metadata": {},
   "outputs": [
    {
     "name": "stdout",
     "output_type": "stream",
     "text": [
      "{'type': 'Original', 'accuracy': 0.9267285861713106, 'recall': 0.6646706586826348, 'auc': 0.8229837083936864, 'precision': 0.8809523809523809, 'fscore': 0.6710067426179959}\n"
     ]
    }
   ],
   "source": [
    "#model original distribution\n",
    "preds, model = build_rf(X_train, y_train, X_test, best_params=best_params_no_weight)\n",
    "result = evaluate(y_test, preds, \"Original\")\n",
    "print(result)\n",
    "results.append(result)\n"
   ]
  },
  {
   "cell_type": "markdown",
   "id": "b01c742b",
   "metadata": {},
   "source": [
    "The original model performs well in most of the metrics. Recall and f1 are low and are the important ones in this analysis, so let's explore some variations of this model.  "
   ]
  },
  {
   "cell_type": "markdown",
   "id": "35296907",
   "metadata": {},
   "source": [
    "*** RF modelt with weights ***"
   ]
  },
  {
   "cell_type": "code",
   "execution_count": 32,
   "id": "01095052",
   "metadata": {},
   "outputs": [],
   "source": [
    "#RF weights \n",
    "class_weight = {}\n",
    "# 0.2 to Non-churn class\n",
    "class_weight[0] = 0.2\n",
    "# 0.8 to Churn class\n",
    "class_weight[1] = 0.8"
   ]
  },
  {
   "cell_type": "code",
   "execution_count": 33,
   "id": "69ae33e0",
   "metadata": {},
   "outputs": [],
   "source": [
    "# Pre-tuned hyper parameters\n",
    "best_params_weight = {'bootstrap': True,\n",
    "                         'class_weight': class_weight, \n",
    "                         'max_depth': 10, \n",
    "                         'min_samples_split': 5, \n",
    "                         'n_estimators': 50}"
   ]
  },
  {
   "cell_type": "code",
   "execution_count": 34,
   "id": "211cf269",
   "metadata": {},
   "outputs": [],
   "source": [
    "#Build the model \n",
    "preds_cw, weight_model = build_rf(X_train, y_train, X_test, best_params=best_params_weight)"
   ]
  },
  {
   "cell_type": "code",
   "execution_count": 35,
   "id": "3bd0316d",
   "metadata": {},
   "outputs": [
    {
     "name": "stdout",
     "output_type": "stream",
     "text": [
      "{'type': 'Class Weight', 'accuracy': 0.9184726522187823, 'recall': 0.7664670658682635, 'auc': 0.8582958770737826, 'precision': 0.7619047619047619, 'fscore': 0.7662905825466269}\n"
     ]
    }
   ],
   "source": [
    "#Model performance evaluation \n",
    "result = evaluate(y_test, preds_cw, \"Class Weight\")\n",
    "print(result)\n",
    "results.append(result)"
   ]
  },
  {
   "cell_type": "markdown",
   "id": "32500059",
   "metadata": {},
   "source": [
    "No we have a more balanced model, accuraccy decrease a bit while recall and fscore increased. This is an indication that class reweithing is a effective for this unbalanced dataset"
   ]
  },
  {
   "cell_type": "markdown",
   "id": "f3f40107",
   "metadata": {},
   "source": [
    " *** RF Resampling ***"
   ]
  },
  {
   "cell_type": "code",
   "execution_count": 36,
   "id": "9bc84df2",
   "metadata": {},
   "outputs": [],
   "source": [
    "from imblearn.over_sampling import RandomOverSampler, SMOTE\n",
    "from imblearn.under_sampling import RandomUnderSampler"
   ]
  },
  {
   "cell_type": "code",
   "execution_count": 37,
   "id": "8a4dbfbb",
   "metadata": {},
   "outputs": [],
   "source": [
    "#SMOTE and Undersampling\n",
    "X_smo, y_smo, X_under, y_under = resample(X_train, y_train)"
   ]
  },
  {
   "cell_type": "code",
   "execution_count": 38,
   "id": "3e8eb6f1",
   "metadata": {},
   "outputs": [
    {
     "name": "stdout",
     "output_type": "stream",
     "text": [
      "{'type': 'SMOTE', 'accuracy': 0.8968008255933952, 'recall': 0.8023952095808383, 'auc': 0.8594270312243344, 'precision': 0.6666666666666666, 'fscore': 0.7961608775137113}\n"
     ]
    }
   ],
   "source": [
    "#SMOTE\n",
    "preds_smo, smo_model = build_rf(X_smo, y_smo, X_test, best_params=best_params_no_weight)\n",
    "result = evaluate(y_test, preds_smo, \"SMOTE\")\n",
    "print(result)\n",
    "results.append(result)"
   ]
  },
  {
   "cell_type": "markdown",
   "id": "88e859cd",
   "metadata": {},
   "source": [
    "Oversampling helps increasing recall and f1, this indicate that oversample works well for this kind of problem. Even thoug precision decrease, it could be a source to improve operations assumming that there will be more false positive. "
   ]
  },
  {
   "cell_type": "code",
   "execution_count": 39,
   "id": "0bac19eb",
   "metadata": {},
   "outputs": [
    {
     "name": "stdout",
     "output_type": "stream",
     "text": [
      "{'type': 'Undersampling', 'accuracy': 0.8668730650154799, 'recall': 0.8502994011976048, 'auc': 0.8603117953618946, 'precision': 0.5772357723577236, 'fscore': 0.8351051798235695}\n"
     ]
    }
   ],
   "source": [
    "#Undersampling\n",
    "preds_under, under_model = build_rf(X_under, y_under, X_test, best_params=best_params_no_weight)\n",
    "result = evaluate(y_test, preds_under, \"Undersampling\")\n",
    "print(result)\n",
    "results.append(result)"
   ]
  },
  {
   "cell_type": "code",
   "execution_count": 40,
   "id": "612c96bc",
   "metadata": {},
   "outputs": [
    {
     "name": "stdout",
     "output_type": "stream",
     "text": [
      "            type  accuracy    recall       auc  precision    fscore\n",
      "0       Original  0.926729  0.664671  0.822984   0.880952  0.671007\n",
      "1   Class Weight  0.918473  0.766467  0.858296   0.761905  0.766291\n",
      "2          SMOTE  0.896801  0.802395  0.859427   0.666667  0.796161\n",
      "3  Undersampling  0.866873  0.850299  0.860312   0.577236  0.835105\n"
     ]
    },
    {
     "data": {
      "image/png": "[encoded data removed]",
      "text/plain": [
       "<Figure size 960x800 with 1 Axes>"
      ]
     },
     "metadata": {
      "needs_background": "light"
     },
     "output_type": "display_data"
    }
   ],
   "source": [
    "visualize_eval_metrics(results)"
   ]
  },
  {
   "cell_type": "markdown",
   "id": "6e35dfc4",
   "metadata": {},
   "source": [
    "From the above char we can infer:\n",
    "    \n",
    "    all models have high aacuracy\n",
    "    undersampling shows the highest recall and fscore and the lowest precision \n",
    "    AUC performs good in all the models\n",
    "    the original model has the highest accuracy and precision\n",
    "    \n",
    "Thus, the undersampling model looks like the best model for this churn imbalanced dataset, it helps to overcome the problem with \n",
    "the classes and perfoms well for all the metrics. Having a low precision(more false positives) can help firms(in this case) \n",
    "to improve operations."
   ]
  },
  {
   "cell_type": "markdown",
   "id": "cd83e8a5",
   "metadata": {},
   "source": [
    "# *** Model 2: Logistic Regression ***"
   ]
  },
  {
   "cell_type": "code",
   "execution_count": 46,
   "id": "1538d965",
   "metadata": {},
   "outputs": [
    {
     "name": "stdout",
     "output_type": "stream",
     "text": [
      "{'type': 'Original', 'accuracy': 0.8771929824561403, 'recall': 0.4550898203592814, 'auc': 0.7100885510773963, 'precision': 0.7307692307692307, 'fscore': 0.46179013788268297}\n"
     ]
    }
   ],
   "source": [
    "#LR original distribution\n",
    "results_lr = []\n",
    "preds, model = build_lr(X_train, y_train, X_test)\n",
    "result_lr = evaluate(y_test, preds)\n",
    "print(result_lr)\n",
    "results_lr.append(result_lr)"
   ]
  },
  {
   "cell_type": "markdown",
   "id": "9238de30",
   "metadata": {},
   "source": [
    "The LR base model perform worst than the RF model in all metrics. So, let's try some model improvments via wieghts and resampling. "
   ]
  },
  {
   "cell_type": "markdown",
   "id": "9d015993",
   "metadata": {},
   "source": [
    "*** LR with weights ***"
   ]
  },
  {
   "cell_type": "code",
   "execution_count": 47,
   "id": "2f24c0ac",
   "metadata": {},
   "outputs": [
    {
     "name": "stdout",
     "output_type": "stream",
     "text": [
      "{'type': 'Weight', 'accuracy': 0.7698658410732714, 'recall': 0.7365269461077845, 'auc': 0.7566674630788299, 'precision': 0.40728476821192056, 'fscore': 0.7143176234085327}\n"
     ]
    }
   ],
   "source": [
    "#LR with weights\n",
    "best_params_weights = {'class_weight': {0: 0.2, 1: 0.8}}\n",
    "\n",
    "#class-weights\n",
    "preds, model = build_lr(X_train, y_train, X_test, best_params=best_params_weights)\n",
    "result_lr = evaluate(y_test, preds, 'Weight')\n",
    "print(result_lr)\n",
    "results_lr.append(result_lr)"
   ]
  },
  {
   "cell_type": "markdown",
   "id": "556c56ee",
   "metadata": {},
   "source": [
    "Recall and f1 scores improve whereas precision and accuracy shrink"
   ]
  },
  {
   "cell_type": "markdown",
   "id": "fd64375c",
   "metadata": {},
   "source": [
    "*** LR Resampling ***"
   ]
  },
  {
   "cell_type": "code",
   "execution_count": 43,
   "id": "e0fde081",
   "metadata": {},
   "outputs": [],
   "source": [
    "#LR SMOTE and undersampling\n",
    "X_smo, y_smo, X_under, y_under = resample(X_train, y_train)"
   ]
  },
  {
   "cell_type": "code",
   "execution_count": 48,
   "id": "fa5b64ce",
   "metadata": {},
   "outputs": [
    {
     "name": "stdout",
     "output_type": "stream",
     "text": [
      "{'type': 'SMOTE', 'accuracy': 0.7275541795665634, 'recall': 0.7844311377245509, 'auc': 0.7500709304582854, 'precision': 0.3649025069637883, 'fscore': 0.7512130569033963}\n"
     ]
    }
   ],
   "source": [
    "#LR SMOTE\n",
    "preds_smo, model_smo = build_lr(X_smo, y_smo, X_test)\n",
    "result_lr = evaluate(y_test, preds_smo, 'SMOTE')\n",
    "print(result_lr)\n",
    "results_lr.append(result_lr) #Best model"
   ]
  },
  {
   "cell_type": "code",
   "execution_count": 49,
   "id": "ae3668ca",
   "metadata": {},
   "outputs": [
    {
     "name": "stdout",
     "output_type": "stream",
     "text": [
      "{'type': 'Undersampling', 'accuracy': 0.7358101135190919, 'recall': 0.7664670658682635, 'auc': 0.7479467498917377, 'precision': 0.3710144927536232, 'fscore': 0.736283185840708}\n"
     ]
    }
   ],
   "source": [
    "#LR undersampling\n",
    "preds_under, model_under =build_lr(X_under, y_under, X_test)\n",
    "result_lr=evaluate(y_test, preds_under, 'Undersampling')\n",
    "print(result_lr)\n",
    "results_lr.append(result_lr)"
   ]
  },
  {
   "cell_type": "markdown",
   "id": "d366411a",
   "metadata": {},
   "source": [
    "Recall and f1 increase with oversampling while accuracy and precision reach better scores for undersampling. SMOTE is better for this problem. "
   ]
  },
  {
   "cell_type": "code",
   "execution_count": 50,
   "id": "b98ffb77",
   "metadata": {},
   "outputs": [
    {
     "name": "stdout",
     "output_type": "stream",
     "text": [
      "            type  accuracy    recall       auc  precision    fscore\n",
      "0       Original  0.877193  0.455090  0.710089   0.730769  0.461790\n",
      "1         Weight  0.769866  0.736527  0.756667   0.407285  0.714318\n",
      "2          SMOTE  0.727554  0.784431  0.750071   0.364903  0.751213\n",
      "3  Undersampling  0.735810  0.766467  0.747947   0.371014  0.736283\n"
     ]
    },
    {
     "data": {
      "image/png": "[encoded data removed]",
      "text/plain": [
       "<Figure size 960x800 with 1 Axes>"
      ]
     },
     "metadata": {
      "needs_background": "light"
     },
     "output_type": "display_data"
    }
   ],
   "source": [
    "visualize_eval_metrics(results_lr) #SMOTE better results"
   ]
  },
  {
   "cell_type": "markdown",
   "id": "23a94e1f",
   "metadata": {},
   "source": [
    "# *** Model 3: Support Vector Machine ***"
   ]
  },
  {
   "cell_type": "code",
   "execution_count": 60,
   "id": "bde1834f",
   "metadata": {},
   "outputs": [],
   "source": [
    "params_grid = {\n",
    "    'C': [1, 10, 100],\n",
    "    'kernel': ['poly', 'rbf', 'sigmoid']\n",
    "}"
   ]
  },
  {
   "cell_type": "code",
   "execution_count": 57,
   "id": "227f2b3a",
   "metadata": {},
   "outputs": [],
   "source": [
    "model = SVC(random_state=rs)"
   ]
  },
  {
   "cell_type": "code",
   "execution_count": 61,
   "id": "b6098b61",
   "metadata": {},
   "outputs": [
    {
     "name": "stdout",
     "output_type": "stream",
     "text": [
      "Fitting 5 folds for each of 9 candidates, totalling 45 fits\n"
     ]
    }
   ],
   "source": [
    "# Define a GridSearchCV to search the best parameters\n",
    "grid_search = GridSearchCV(estimator = model, \n",
    "                           param_grid = params_grid, \n",
    "                           scoring='f1',\n",
    "                           cv = 5, verbose = 1)\n",
    "# Search the best parameters with training data\n",
    "grid_search.fit(X_train, y_train.values.ravel())\n",
    "best_params = grid_search.best_params_"
   ]
  },
  {
   "cell_type": "code",
   "execution_count": 62,
   "id": "b9e33f78",
   "metadata": {},
   "outputs": [
    {
     "data": {
      "text/plain": [
       "{'C': 100, 'kernel': 'rbf'}"
      ]
     },
     "execution_count": 62,
     "metadata": {},
     "output_type": "execute_result"
    }
   ],
   "source": [
    "best_params"
   ]
  },
  {
   "cell_type": "code",
   "execution_count": 63,
   "id": "6ee447e1",
   "metadata": {},
   "outputs": [],
   "source": [
    "model = SVC(C=100, kernel='rbf')\n",
    "model.fit(X_train, y_train.values.ravel())\n",
    "preds = model.predict(X_test)"
   ]
  },
  {
   "cell_type": "code",
   "execution_count": 96,
   "id": "19833df3",
   "metadata": {},
   "outputs": [
    {
     "name": "stdout",
     "output_type": "stream",
     "text": [
      "{'type': 'Original', 'accuracy': 0.7616099071207431, 'recall': 0.7724550898203593, 'auc': 0.7659033553839951, 'precision': 0.40062111801242234, 'fscore': 0.7458305537024682}\n"
     ]
    }
   ],
   "source": [
    "results_SVM=[]\n",
    "result_SVM=evaluate(y_test, preds, 'Original')\n",
    "print(result_SVM)\n",
    "results_SVM.append(result_SVM)"
   ]
  },
  {
   "cell_type": "markdown",
   "id": "dccd2a91",
   "metadata": {},
   "source": [
    "Results from SVM are better than previous models for recall and f1 score in the original model. However, accuracy and precision are the lowest ones among the thre models. Lets try some modifications. "
   ]
  },
  {
   "cell_type": "markdown",
   "id": "1c1e8a6b",
   "metadata": {},
   "source": [
    "*** Support Vector Machine model with weights ***"
   ]
  },
  {
   "cell_type": "code",
   "execution_count": 67,
   "id": "768a4bea",
   "metadata": {},
   "outputs": [],
   "source": [
    "model = SVC(C=100, kernel='rbf', class_weight= {0: 0.2, 1: 0.8})\n",
    "model.fit(X_train, y_train.values.ravel())\n",
    "preds_svm = model.predict(X_test)"
   ]
  },
  {
   "cell_type": "code",
   "execution_count": 97,
   "id": "53e955be",
   "metadata": {},
   "outputs": [
    {
     "name": "stdout",
     "output_type": "stream",
     "text": [
      "{'type': 'Weights', 'accuracy': 0.7564499484004128, 'recall': 0.7904191616766467, 'auc': 0.769897860140069, 'precision': 0.3963963963963964, 'fscore': 0.7613132209405502}\n"
     ]
    }
   ],
   "source": [
    "result_SVM=evaluate(y_test, preds_svm, 'Weights')\n",
    "print(result_SVM)\n",
    "results_SVM.append(result_SVM)"
   ]
  },
  {
   "cell_type": "markdown",
   "id": "d7da8c52",
   "metadata": {},
   "source": [
    " Assign class weights improved the model for recall and f1. "
   ]
  },
  {
   "cell_type": "markdown",
   "id": "157e5635",
   "metadata": {},
   "source": [
    " *** SVM model SMOTE ***"
   ]
  },
  {
   "cell_type": "code",
   "execution_count": 69,
   "id": "2e56b981",
   "metadata": {},
   "outputs": [],
   "source": [
    "#SMOTE and Undersampling\n",
    "X_smo, y_smo, X_under, y_under = resample(X_train, y_train)"
   ]
  },
  {
   "cell_type": "code",
   "execution_count": 98,
   "id": "cba34684",
   "metadata": {},
   "outputs": [
    {
     "name": "stdout",
     "output_type": "stream",
     "text": [
      "{'type': 'SMOTE', 'accuracy': 0.7564499484004128, 'recall': 0.7904191616766467, 'auc': 0.769897860140069, 'precision': 0.3963963963963964, 'fscore': 0.7613132209405502}\n"
     ]
    }
   ],
   "source": [
    "#LR SMOTE\n",
    "model = SVC(C=100, kernel='rbf')\n",
    "model.fit(X_smo, y_smo.values.ravel())\n",
    "preds_svm = model.predict(X_test)\n",
    "\n",
    "result_SVM = evaluate(y_test, preds_svm, 'SMOTE')\n",
    "print(result_SVM)\n",
    "results_SVM.append(result_SVM)"
   ]
  },
  {
   "cell_type": "markdown",
   "id": "43c5c144",
   "metadata": {},
   "source": [
    " *** SVM model undersampling ***"
   ]
  },
  {
   "cell_type": "code",
   "execution_count": 99,
   "id": "06fc07bf",
   "metadata": {},
   "outputs": [
    {
     "name": "stdout",
     "output_type": "stream",
     "text": [
      "{'type': 'Undersampling', 'accuracy': 0.7502579979360166, 'recall': 0.7844311377245509, 'auc': 0.7637866411814775, 'precision': 0.3887240356083086, 'fscore': 0.7548758865248226}\n"
     ]
    }
   ],
   "source": [
    "#SVM undersampling\n",
    "model = SVC(C=100, kernel='rbf')\n",
    "model.fit(X_under, y_under.values.ravel())\n",
    "preds_svm = model.predict(X_test)\n",
    "\n",
    "result_SVM = evaluate(y_test, preds_svm, 'Undersampling')\n",
    "print(result_SVM)\n",
    "results_SVM.append(result_SVM)"
   ]
  },
  {
   "cell_type": "code",
   "execution_count": null,
   "id": "99c900b9",
   "metadata": {},
   "outputs": [],
   "source": [
    "SVM model with SMOTE does better than tne LR model in recall and f1 scores."
   ]
  },
  {
   "cell_type": "code",
   "execution_count": 100,
   "id": "cee3269e",
   "metadata": {},
   "outputs": [
    {
     "name": "stdout",
     "output_type": "stream",
     "text": [
      "            type  accuracy    recall       auc  precision    fscore\n",
      "0       Original  0.761610  0.772455  0.765903   0.400621  0.745831\n",
      "1        Weights  0.756450  0.790419  0.769898   0.396396  0.761313\n",
      "2          SMOTE  0.756450  0.790419  0.769898   0.396396  0.761313\n",
      "3  Undersampling  0.750258  0.784431  0.763787   0.388724  0.754876\n"
     ]
    },
    {
     "data": {
      "image/png": "[encoded data removed]",
      "text/plain": [
       "<Figure size 960x800 with 1 Axes>"
      ]
     },
     "metadata": {
      "needs_background": "light"
     },
     "output_type": "display_data"
    }
   ],
   "source": [
    "visualize_eval_metrics(results_SVM)"
   ]
  },
  {
   "cell_type": "markdown",
   "id": "72d7e4d7",
   "metadata": {},
   "source": [
    "# Model selection "
   ]
  },
  {
   "cell_type": "markdown",
   "id": "03a05749",
   "metadata": {},
   "source": [
    "All models perfomrs fairly well, to select the final model or to propose one taking in considaration that this is a imbalanced class problem, recall and F1 score were selected as critial metrics and basoed on this, the RF model with undersampling is proposed because performs better in these two metrics also it has a good perfom in accuracy and precision. Therefore, the RF model is selected and recommended to use as a predictive tool as well as to explore more in depth. "
   ]
  },
  {
   "cell_type": "markdown",
   "id": "010ac723",
   "metadata": {},
   "source": [
    "*** Key findings  ***\n",
    "The dataset in general was good enough to model\n",
    "Some feature trasnformations were made to developed the models and other features were discarded due to its lack of value for modelling\n",
    "Some features were filled out with the median and other that contain many missing values or NaN values were deleted\n",
    "In this project we analyzed three models, Logistic Regression, Random Forest and Support Vector Machines, for these three models as the class was imbalanced strategies to resolve the issue were taken. Oversampling, undersampling and class weights were used for each of the three models.\n",
    "The model that best suits the problem and the data available is the RF with Undersampling, this model shows the highest recall and F1, which are the recommended metrics for an imbalanced class problem.\n",
    "\n",
    "    "
   ]
  },
  {
   "cell_type": "markdown",
   "id": "3566a6a5",
   "metadata": {},
   "source": [
    "*** Further steps ***\n",
    "\n",
    "    Use different models such as KNN, decision trees, embeded models or boosting strategies.\n",
    "    Take a look into outliers and explore option to include in the analysis or discarded them\n",
    "    Some flaws in this project could be due to the limited models proposed to overcome that is suggested to:\n",
    "        Use gridsearch for RF and LR models\n",
    "        Do some cross validation \n",
    "    The media and mean were used to filled out some missing values, an option could be explore more options to fill out \n",
    "    these missing values\n",
    "    If more data is avalable will be useful to include and explore more models\n",
    "    \n",
    "    \n",
    "    "
   ]
  }
 ],
 "metadata": {
  "kernelspec": {
   "display_name": "Python 3 (ipykernel)",
   "language": "python",
   "name": "python3"
  },
  "language_info": {
   "codemirror_mode": {
    "name": "ipython",
    "version": 3
   },
   "file_extension": ".py",
   "mimetype": "text/x-python",
   "name": "python",
   "nbconvert_exporter": "python",
   "pygments_lexer": "ipython3",
   "version": "3.9.12"
  }
 },
 "nbformat": 4,
 "nbformat_minor": 5
}
